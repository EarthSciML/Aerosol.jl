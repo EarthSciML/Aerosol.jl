{
 "cells": [
  {
   "cell_type": "code",
   "execution_count": 1,
   "id": "9f552887",
   "metadata": {},
   "outputs": [],
   "source": [
    "# example\n",
    "using ModelingToolkit\n",
    "\n",
    "@parameters t σ ρ β \n",
    "@variables x(t) y(t) z(t)\n",
    "@derivatives D'~t\n",
    "\n",
    "eqs = [D(x) ~ σ*(y-x),\n",
    "       D(y) ~ x*(ρ-z)-y,\n",
    "       D(z) ~ x*y - β*z]\n",
    "\n",
    "sys = ODESystem(eqs)"
   ]
  },
  {
   "cell_type": "code",
   "execution_count": 22,
   "id": "10255b21",
   "metadata": {},
   "outputs": [
    {
     "data": {
      "text/plain": [
       "5-element Vector{Float64}:\n",
       " 188.095\n",
       " 366.084\n",
       " 564.453\n",
       " 876.664\n",
       " 548.33"
      ]
     },
     "execution_count": 22,
     "metadata": {},
     "output_type": "execute_result"
    }
   ],
   "source": [
    "using Random\n",
    "\n",
    "# n1(x)\n",
    "n1 = Vector{Int}(undef,4) # n1(x) = [n11,n12,n13,n14]\n",
    "rand!(n1,0:10^5) # n11,n12,n13,n14 are random number chosen from 0 to 10^5\n",
    "\n",
    "# n2(x)\n",
    "n2 = Vector{Int}(undef,4) # n2(x) = [n21,n22,n23,n24]\n",
    "rand!(n2,0:10^5) # n21,n22,n23,n24 are random number chosen from 0 to 10^5\n",
    "\n",
    "# n3(x)\n",
    "n3 = Vector{Int}(undef,4) # n3(x) = [n31,n32,n33,n34]\n",
    "rand!(n3,0:10^5) # n31,n32,n33,n34 are random number chosen from 0 to 10^5\n",
    "\n",
    "# n4(x)\n",
    "n4 = Vector{Int}(undef,4) # n4(x) = [n41,n42,n43,n44]\n",
    "rand!(n4,0:10^5) # n41,n42,n43,n44 are random number chosen from 0 to 10^5\n",
    "\n",
    "# n5(x)\n",
    "n5 = Vector{Int}(undef,4) # n5(x) = [n51,n52,n53,n54]\n",
    "rand!(n5,0:10^5) # n51,n52,n53,n54 are random number chosen from 0 to 10^5\n",
    "\n",
    "N1 = sum(n1) \n",
    "N2 = sum(n2)\n",
    "N3 = sum(n3)\n",
    "N4 = sum(n4)\n",
    "N5 = sum(n5)\n",
    "\n",
    "N = [N1,N2,N3,N4,N5]\n",
    "dx = 10^(-3)\n",
    "x1 = 0.001\n",
    "x2 = x1+dx\n",
    "x3 = x2+dx\n",
    "x4 = x3+dx\n",
    "x5 = x4+dx\n",
    "\n",
    "M1 = sum(x1*n1) \n",
    "M2 = sum(x2*n2)\n",
    "M3 = sum(x3*n3)\n",
    "M4 = sum(x4*n4)\n",
    "M5 = sum(x5*n5)\n",
    "M = [M1,M2,M3,M4,M5]"
   ]
  },
  {
   "cell_type": "code",
   "execution_count": null,
   "id": "3263c723",
   "metadata": {},
   "outputs": [],
   "source": [
    "using ModelingTookit\n",
    "\n",
    "# Coagulation (Sink of number)\n"
   ]
  },
  {
   "cell_type": "code",
   "execution_count": null,
   "id": "04ba8781",
   "metadata": {},
   "outputs": [],
   "source": [
    "using ModelingTookit\n",
    "\n",
    "# Condensation (Source of )"
   ]
  }
 ],
 "metadata": {
  "kernelspec": {
   "display_name": "Julia 1.8.5",
   "language": "julia",
   "name": "julia-1.8"
  },
  "language_info": {
   "file_extension": ".jl",
   "mimetype": "application/julia",
   "name": "julia",
   "version": "1.8.5"
  }
 },
 "nbformat": 4,
 "nbformat_minor": 5
}
